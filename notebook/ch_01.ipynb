{
 "cells": [
  {
   "cell_type": "markdown",
   "id": "96858bba-bda9-43e8-ba4b-4f716d2e8b22",
   "metadata": {},
   "source": [
    "# 1.1 Python Essentials"
   ]
  },
  {
   "cell_type": "markdown",
   "id": "68c5cd34-25f9-4d27-80b9-ddb1787c19a5",
   "metadata": {},
   "source": [
    "## 1.1.1 List Comprehension"
   ]
  },
  {
   "cell_type": "code",
   "execution_count": 92,
   "id": "e7bd0712-12bc-49e7-b3a7-f763bf7bbe9d",
   "metadata": {},
   "outputs": [
    {
     "name": "stdout",
     "output_type": "stream",
     "text": [
      "[0, 2, 4]\n"
     ]
    }
   ],
   "source": [
    "# new_list = [expression for item in iterable if condition], filtered with condition\n",
    "# Condition as filtering, after for loop\n",
    "lst = [x for x in range(5) if x % 2 == 0]\n",
    "print(lst)"
   ]
  },
  {
   "cell_type": "code",
   "execution_count": 93,
   "id": "09aa6d5c-5d86-498f-93e4-388fa7d65d93",
   "metadata": {},
   "outputs": [
    {
     "name": "stdout",
     "output_type": "stream",
     "text": [
      "[1, 9, 25]\n"
     ]
    }
   ],
   "source": [
    "# Expression as simple function.\n",
    "numbers = [1,2,3,4,5,6]\n",
    "squared = [x**2 for x in numbers if x % 2 != 0]\n",
    "print(squared)"
   ]
  },
  {
   "cell_type": "code",
   "execution_count": 94,
   "id": "812a35b8-ada7-41f1-9240-721fccddede9",
   "metadata": {},
   "outputs": [
    {
     "name": "stdout",
     "output_type": "stream",
     "text": [
      "[1, 2, 3, 4, 5, 6, 7, 8, 9]\n",
      "['a_c', 'a_d', 'b_c', 'b_d']\n"
     ]
    }
   ],
   "source": [
    "# Nesting. 1st for = outer loop, 2st = inner loop.\n",
    "matrix = [[1,2,3],[4,5,6],[7,8,9]]\n",
    "# naming of the item in iterable is arbiturary.\n",
    "flattened = [num for row in matrix for num in row]\n",
    "print(flattened)\n",
    "\n",
    "print([m+\"_\"+n for m in [\"a\",\"b\"] for n in [\"c\", \"d\"]])"
   ]
  },
  {
   "cell_type": "code",
   "execution_count": 95,
   "id": "37961b3f-041c-42dc-b26a-54822fa828f5",
   "metadata": {},
   "outputs": [
    {
     "name": "stdout",
     "output_type": "stream",
     "text": [
      "['odd', 'even', 'odd', 'even', 'odd', 'even']\n",
      "[1, 2, 3, 4, 4, 4]\n"
     ]
    }
   ],
   "source": [
    "# Conditional control \n",
    "# Condition as flow control, before for loop\n",
    "numbers = [1,2,3,4,5,6]\n",
    "result_1 = ['even' if i % 2 == 0 else 'odd' for i in numbers]\n",
    "print(result_1)\n",
    "result_2 = [i if i <= 4 else 4 for i in numbers]\n",
    "print(result_2)"
   ]
  },
  {
   "cell_type": "code",
   "execution_count": 96,
   "id": "43fb975f-ca83-4cd2-8e69-8d0935af5862",
   "metadata": {},
   "outputs": [
    {
     "name": "stdout",
     "output_type": "stream",
     "text": [
      "[('Alice', 5), ('Bob', 3), ('Charlie', 7)]\n"
     ]
    }
   ],
   "source": [
    "# Create a list of tuples\n",
    "names = ['Alice', 'Bob', 'Charlie']\n",
    "name_length = [(name, len(name)) for name in names]\n",
    "print(name_length)"
   ]
  },
  {
   "cell_type": "markdown",
   "id": "9126af6a-560f-4d38-8bc5-e40d526f5a55",
   "metadata": {},
   "source": [
    "## 1.1.2 Lambda Function and its applications"
   ]
  },
  {
   "cell_type": "markdown",
   "id": "fdcd1802-d75f-4def-b44c-1c8caac8ffc6",
   "metadata": {},
   "source": [
    "Q: Why use lambda function?    \n",
    "A: When function to use is **simple** and for **short-term oeprations** where a **full function definition is unnecessary**. Only care about the **mapping**.\n",
    "\n",
    "- map()\n",
    "- filter()\n",
    "- key argument in sorting functions like sorted()\n",
    "- reduce()"
   ]
  },
  {
   "cell_type": "code",
   "execution_count": 97,
   "id": "af8c3517-0b27-41a1-9dd3-2739b52d7d2a",
   "metadata": {},
   "outputs": [
    {
     "name": "stdout",
     "output_type": "stream",
     "text": [
      "4\n"
     ]
    }
   ],
   "source": [
    "# Example structure: labmda arguments: expressions\n",
    "# Not a good example here. Typically it does not have a name.\n",
    "square = lambda x: x**2\n",
    "print(square(2))"
   ]
  },
  {
   "cell_type": "code",
   "execution_count": 98,
   "id": "e386e6e2-0a27-4a07-b68d-229d79359bc9",
   "metadata": {},
   "outputs": [
    {
     "name": "stdout",
     "output_type": "stream",
     "text": [
      "[0, 1, 4, 9, 16]\n"
     ]
    }
   ],
   "source": [
    "# Lambda function in list comprehension\n",
    "lst = [(lambda x: x**2) (i) for i in range(5)]\n",
    "print(lst)"
   ]
  },
  {
   "cell_type": "code",
   "execution_count": 99,
   "id": "5572e61a-ed3c-4547-80e4-5d33a91b528d",
   "metadata": {},
   "outputs": [
    {
     "name": "stdout",
     "output_type": "stream",
     "text": [
      "[0, 1, 4, 9, 16]\n"
     ]
    }
   ],
   "source": [
    "# map() to simplify lambda function in list comprehension\n",
    "# map(func, *iterables) --> map object\n",
    "my_map = map((lambda x: x**2), range(5))\n",
    "# Use list() to get the list from the map object\n",
    "# It may accur typer error: 'list' object is not callable, because previouse I defined a list with name list. \n",
    "my_list = list(my_map)\n",
    "print(my_list)"
   ]
  },
  {
   "cell_type": "code",
   "execution_count": 100,
   "id": "e5c2bddc-09b1-4318-9b45-d545f30c9729",
   "metadata": {},
   "outputs": [
    {
     "name": "stdout",
     "output_type": "stream",
     "text": [
      "['0_a', '1_b', '2_c', '3_d', '4_e']\n"
     ]
    }
   ],
   "source": [
    "# Multiple parameters in lambda function => multiple iterables\n",
    "my_list = list(map(lambda x,y: str(x)+'_'+y, range(5), list('abcde')))\n",
    "print(my_list)"
   ]
  },
  {
   "cell_type": "code",
   "execution_count": 101,
   "id": "9ba66ead-b39d-4ed6-977c-7a25ae71362b",
   "metadata": {},
   "outputs": [
    {
     "name": "stdout",
     "output_type": "stream",
     "text": [
      "[2, 4, 6]\n"
     ]
    }
   ],
   "source": [
    "# filter() to selectively include elements in a new iterable based on a condition.\n",
    "# filter(function or None, iterable) --> filter object\n",
    "# Return when function is true\n",
    "numbers = [1,2,3,4,5,6]\n",
    "evens = list(filter(lambda x: x % 2 == 0, numbers))\n",
    "print(evens)"
   ]
  },
  {
   "cell_type": "code",
   "execution_count": 102,
   "id": "211506eb-9572-4704-8754-82d1aa1c974c",
   "metadata": {},
   "outputs": [
    {
     "name": "stdout",
     "output_type": "stream",
     "text": [
      "['Bob', 'Alice', 'David', 'Charlie']\n"
     ]
    }
   ],
   "source": [
    "# Often used as the key arguments in sorting functions\n",
    "names = ['Alice', 'Bob', 'Charlie', 'David']\n",
    "sorted_names = sorted(names, key=lambda x: len(x))\n",
    "print(sorted_names)"
   ]
  },
  {
   "cell_type": "code",
   "execution_count": 103,
   "id": "2bfccb4f-5ac4-4d62-8c06-dc8bd13a2437",
   "metadata": {},
   "outputs": [
    {
     "name": "stdout",
     "output_type": "stream",
     "text": [
      "24\n"
     ]
    }
   ],
   "source": [
    "# Another common use is to provide functions for reduce()\n",
    "# reduce() -> Apply a rolling computation to a sequention pairs of values in a list.\n",
    "# For example, reduce(lambda x, y: x+y, [1, 2, 3, 4, 5]) calculates ((((1+2)+3)+4)+5)\n",
    "from functools import reduce\n",
    "product = reduce(lambda x, y: x * y, [1, 2, 3, 4]) # calculates ((1*2)*3)*4\n",
    "print(product)"
   ]
  },
  {
   "cell_type": "markdown",
   "id": "7b92d44e-dcdc-4c0d-ad7d-c44ba7c842b6",
   "metadata": {},
   "source": [
    "## 1.1.3 Zip and Enumerate"
   ]
  },
  {
   "cell_type": "markdown",
   "id": "22b0db68-66b6-44d7-ab16-72b11d34986d",
   "metadata": {},
   "source": [
    "`zip()`: \n",
    "\n",
    "- Combine two or more iterables, **element by element**, and returns **an iterator of tuples**.\n",
    "- Use `list()` or `tuple()` to get items.\n",
    "- Use when need to iterate over multiple iterables simutaneously and process elements together.\n",
    "- `*` to unpack.\n",
    "- Useful in **creating a dictionary**."
   ]
  },
  {
   "cell_type": "code",
   "execution_count": 104,
   "id": "9bc3a300-e79e-4c12-bacc-9e44e1b0edeb",
   "metadata": {},
   "outputs": [
    {
     "name": "stdout",
     "output_type": "stream",
     "text": [
      "[('Alice', 25), ('Bob', 30), ('Charlie', 35)]\n",
      "Name: Alice,  Age: 25\n",
      "Name: Bob,  Age: 30\n",
      "Name: Charlie,  Age: 35\n"
     ]
    }
   ],
   "source": [
    "# Structure: zip(iterable1, iterable2, ...)\n",
    "# Example\n",
    "names = ['Alice', 'Bob', 'Charlie', 'Jack']\n",
    "ages = [25, 30, 35]\n",
    "\n",
    "combined = list(zip(names, ages)) # if use tuple(), combined will be a tuple with the same members.\n",
    "print(combined)\n",
    "# Stop creating tuples when the shortest iterable is exhausted.\n",
    "\n",
    "# Iterate through a zipped iterable:\n",
    "for name, age in zip(names, ages):\n",
    "    print(f\"Name: {name}, \", f\"Age: {age}\")"
   ]
  },
  {
   "cell_type": "code",
   "execution_count": 105,
   "id": "7c9381d3-8083-498a-8941-41044f6dbe12",
   "metadata": {},
   "outputs": [
    {
     "name": "stdout",
     "output_type": "stream",
     "text": [
      "('Alice', 'Bob', 'Charlie')\n",
      "(25, 30, 35)\n"
     ]
    }
   ],
   "source": [
    "# Use zip() to unzip a zipped iterable (e.g. a list of tuples) by applying the `*` unpacking operator\n",
    "names_1, ages_1 = zip(*combined)\n",
    "print(names_1)\n",
    "print(ages_1)"
   ]
  },
  {
   "cell_type": "code",
   "execution_count": 106,
   "id": "547add42-38cc-43c8-b641-a668e5702176",
   "metadata": {},
   "outputs": [
    {
     "name": "stdout",
     "output_type": "stream",
     "text": [
      "{'Alice': 25, 'Bob': 30, 'Charlie': 35}\n"
     ]
    }
   ],
   "source": [
    "# zip() is very useful in creating a dictionary from two list.\n",
    "print(dict(zip(names, ages)))"
   ]
  },
  {
   "cell_type": "markdown",
   "id": "d59f689e-0dec-4cac-8c86-e28eefa1f689",
   "metadata": {},
   "source": [
    "`enumerate()`:\n",
    "\n",
    "- Iterate over a sequence while **keeping track of the index** of the current item.\n",
    "- Returns a **tuple** containing **index** and corresponding **element**.\n",
    "- Useful when need to **work with index**."
   ]
  },
  {
   "cell_type": "code",
   "execution_count": 107,
   "id": "8b42d843-1744-4df3-a92c-57443863b41e",
   "metadata": {},
   "outputs": [
    {
     "name": "stdout",
     "output_type": "stream",
     "text": [
      "Index: 0, Name: Alice\n",
      "Index: 1, Name: Bob\n",
      "Index: 2, Name: Charlie\n",
      "Index: 3, Name: Jack\n"
     ]
    }
   ],
   "source": [
    "# Structure: enumerate(iterable, start=0) start is defatulted.\n",
    "# Example:\n",
    "for index, name in enumerate(names):\n",
    "    print(f\"Index: {index}, Name: {name}\")"
   ]
  },
  {
   "cell_type": "code",
   "execution_count": 108,
   "id": "bdecf196-d4b0-463c-bc30-c4e01ba36495",
   "metadata": {},
   "outputs": [
    {
     "name": "stdout",
     "output_type": "stream",
     "text": [
      "Index: 1, Name: Alice\n",
      "Index: 2, Name: Bob\n",
      "Index: 3, Name: Charlie\n",
      "Index: 4, Name: Jack\n"
     ]
    }
   ],
   "source": [
    "# Start index can be changed:\n",
    "for index, name in enumerate(names, start=1):\n",
    "    print(f\"Index: {index}, Name: {name}\")"
   ]
  },
  {
   "cell_type": "markdown",
   "id": "627a2741-1608-46f6-a50a-909dccc8631a",
   "metadata": {},
   "source": [
    "# 1.2 NumPy Essentials"
   ]
  },
  {
   "cell_type": "markdown",
   "id": "0938ba5f-18d1-4540-ab01-2431e8515388",
   "metadata": {},
   "source": [
    "Check other resources to understand NumPy Basics: \n",
    "- https://www.runoob.com/numpy/numpy-ndarray-object.html\n",
    "- https://numpy.org/doc/1.26/user/index.html\n",
    "\n",
    "NumPy Arrays (**ndarray**):\n",
    "\n",
    "- Multi-dimensional, homogeneous (**same data type**) array of **fixed-size?->can be resized, not append** elements => a **Matrix**.\n",
    "- Fundamental data structure in NumPy.\n",
    "- Much more efficient than Python list."
   ]
  },
  {
   "cell_type": "markdown",
   "id": "0476b28c-021f-480d-9187-8eb99fd8ad3d",
   "metadata": {},
   "source": [
    "## 1.2.1 Constructing NumPy Arrays"
   ]
  },
  {
   "cell_type": "markdown",
   "id": "37803097-8391-40fa-b8dc-ea0443a80f87",
   "metadata": {},
   "source": [
    "Notice this is not an exhaustive list. Different tutorials will have different selections. Just search for customized needs."
   ]
  },
  {
   "cell_type": "code",
   "execution_count": 109,
   "id": "e496c101-63c9-4d16-9ee6-78a0b4b3f1f0",
   "metadata": {},
   "outputs": [],
   "source": [
    "import numpy as np"
   ]
  },
  {
   "cell_type": "markdown",
   "id": "3839ed59-2e32-4e3e-b08c-c3dd6e4dac12",
   "metadata": {},
   "source": [
    "### 1.2.1.1 General and special ndarrays"
   ]
  },
  {
   "cell_type": "code",
   "execution_count": 110,
   "id": "2d568049-71ff-48a9-aa65-d92390910d2d",
   "metadata": {},
   "outputs": [
    {
     "name": "stdout",
     "output_type": "stream",
     "text": [
      "<class 'numpy.ndarray'>\n",
      "[1 2 3]\n",
      "[[1 2 3]\n",
      " [4 5 6]]\n"
     ]
    }
   ],
   "source": [
    "# Construct with array()\n",
    "my_array = np.array([1,2,3]) # Convert from list\n",
    "print(type(my_array))\n",
    "print(my_array)\n",
    "\n",
    "# 2-dimemtional looks like:\n",
    "# Still taking a list as input, but have to be a 2-d list.\n",
    "my_array = np.array([[1,2,3],[4,5,6]])\n",
    "print(my_array)"
   ]
  },
  {
   "cell_type": "code",
   "execution_count": 111,
   "id": "ae56d423-f0f7-4370-b402-94ec8a513f31",
   "metadata": {},
   "outputs": [
    {
     "name": "stdout",
     "output_type": "stream",
     "text": [
      "[1. 3. 5. 7. 9.]\n",
      "[1 3 5 7]\n"
     ]
    }
   ],
   "source": [
    "# Arithmetic sequences\n",
    "# np.linspace(start, stop(inclusive), # of samples)\n",
    "seq = np.linspace(1,9,5)\n",
    "print(seq)\n",
    "\n",
    "# np.arrange(start, stop(non-inclusive), step)\n",
    "seq = np.arange(1,9,2)\n",
    "print(seq)"
   ]
  },
  {
   "cell_type": "code",
   "execution_count": 112,
   "id": "50d5def1-84bf-41cb-8a6e-471f0747d891",
   "metadata": {},
   "outputs": [
    {
     "name": "stdout",
     "output_type": "stream",
     "text": [
      "[[0. 0. 0.]\n",
      " [0. 0. 0.]]\n",
      "[[0 0 0]\n",
      " [0 0 0]]\n"
     ]
    }
   ],
   "source": [
    "# A matrix of zeros, or ones with np.ones\n",
    "my_array = np.zeros((2,3)) # tuple as the size of matrix -> row, col\n",
    "print(my_array)\n",
    "\n",
    "# Default datatype is float, and be reset:\n",
    "my_array = np.zeros((2,3), dtype=int)\n",
    "print(my_array)"
   ]
  },
  {
   "cell_type": "code",
   "execution_count": 113,
   "id": "d5bcfe74-0dd3-40bd-bded-36503a0e663c",
   "metadata": {},
   "outputs": [
    {
     "name": "stdout",
     "output_type": "stream",
     "text": [
      "[[1. 0. 0.]\n",
      " [0. 1. 0.]\n",
      " [0. 0. 1.]]\n"
     ]
    }
   ],
   "source": [
    "# Unit matrix\n",
    "print(np.eye(3)) # 3 x 3 unit matrix, can be offet be setting parameter k"
   ]
  },
  {
   "cell_type": "code",
   "execution_count": 114,
   "id": "a4b2257a-9fc6-4343-9784-873d09cfa866",
   "metadata": {},
   "outputs": [
    {
     "name": "stdout",
     "output_type": "stream",
     "text": [
      "[[10 10 10]\n",
      " [10 10 10]]\n",
      "[[1 2 3]\n",
      " [1 2 3]]\n"
     ]
    }
   ],
   "source": [
    "# Full matrix\n",
    "print(np.full((2,3),10)) # tuple -> size, 10 -> item to fill\n",
    "\n",
    "# Filling every row with an input list\n",
    "print(np.full((2,3),[1,2,3]))"
   ]
  },
  {
   "cell_type": "markdown",
   "id": "533e28ff-e7cf-4dbe-a83b-9d3a5844fcef",
   "metadata": {},
   "source": [
    "### 1.2.1.2 Random ndarrays "
   ]
  },
  {
   "cell_type": "code",
   "execution_count": 115,
   "id": "24eca7c9-0719-4483-93f5-2b3d047f7f98",
   "metadata": {},
   "outputs": [
    {
     "name": "stdout",
     "output_type": "stream",
     "text": [
      "[0.15599452 0.05808361 0.86617615 0.60111501 0.70807258]\n",
      "[ 5.20584494 14.69909852 13.32442641  7.12339111  6.81824967]\n",
      "[ 6.8340451   8.04242243 10.24756432  9.31945019  7.9122914 ]\n"
     ]
    }
   ],
   "source": [
    "# 0-1 random numbers, uniform distribution\n",
    "# The input could be a tuple -> 2-d matrix\n",
    "my_rand = np.random.rand(5)\n",
    "print(my_rand)\n",
    "\n",
    "# For a customized range:\n",
    "a, b = 5, 15\n",
    "my_rand = (b - a) * np.random.rand(5) + a\n",
    "print(my_rand)\n",
    "\n",
    "# However, it is better to use the built-in:\n",
    "my_rand = np.random.uniform(5,15,5)\n",
    "print(my_rand)"
   ]
  },
  {
   "cell_type": "code",
   "execution_count": 116,
   "id": "4c687fbf-9742-4d6d-b413-094ce2d7f4f9",
   "metadata": {},
   "outputs": [
    {
     "name": "stdout",
     "output_type": "stream",
     "text": [
      "[-1.01283112  0.31424733 -0.90802408 -1.4123037   1.46564877]\n",
      "[3.5484474  4.13505641 1.15050363 2.91123455 4.22184518]\n",
      "[1.69801285 4.75139604 2.79872262 3.4166125  2.79658678]\n"
     ]
    }
   ],
   "source": [
    "# N(0,1) random numbers, normal distribution\n",
    "my_rand = np.random.randn(5)\n",
    "print(my_rand)\n",
    "\n",
    "# For a customized sigma, mu\n",
    "mu, sigma = 4, 2\n",
    "my_rand = mu + np.random.randn(5) * sigma\n",
    "print(my_rand)\n",
    "\n",
    "# However, it is better to use the built-in:\n",
    "my_rand = np.random.normal(4,2,5)\n",
    "print(my_rand)"
   ]
  },
  {
   "cell_type": "code",
   "execution_count": 117,
   "id": "e134d73a-bd56-4e31-a405-f7e389dcf753",
   "metadata": {},
   "outputs": [
    {
     "name": "stdout",
     "output_type": "stream",
     "text": [
      "[71 44  8 47 35 78 81 36 50  4]\n"
     ]
    }
   ],
   "source": [
    "# Random integers in customized range\n",
    "low, high, size = 1,100,10\n",
    "my_rand = np.random.randint(low, high, size)\n",
    "print(my_rand)"
   ]
  },
  {
   "cell_type": "code",
   "execution_count": 118,
   "id": "d202cc24-154e-425d-9b45-a350d5c7e2ab",
   "metadata": {},
   "outputs": [
    {
     "name": "stdout",
     "output_type": "stream",
     "text": [
      "[3 1 5]\n"
     ]
    }
   ],
   "source": [
    "# Customized sampling from a list.\n",
    "# Default = uniform and sampling with replacement.\n",
    "# Can specify sampling method and probability for each element.\n",
    "my_list = [1,2,3,4,5]\n",
    "my_rand = np.random.choice(my_list, 3, replace=False, p=[0.1,0.1,0.6,0.1,0.1])\n",
    "print(my_rand)"
   ]
  },
  {
   "cell_type": "code",
   "execution_count": 119,
   "id": "b987a31c-ca62-456b-afd1-6a8de1d1a0ca",
   "metadata": {},
   "outputs": [
    {
     "name": "stdout",
     "output_type": "stream",
     "text": [
      "[0.77513282 0.93949894 0.89482735 0.59789998 0.92187424]\n",
      "[0.0884925  0.19598286 0.04522729 0.32533033 0.38867729]\n",
      "[0.37454012 0.95071431 0.73199394 0.59865848 0.15601864]\n",
      "[0.37454012 0.95071431 0.73199394 0.59865848 0.15601864]\n"
     ]
    }
   ],
   "source": [
    "# Random seed. Use to fix output. Often use 42 in ML.\n",
    "my_rand = np.random.rand(5)\n",
    "print(my_rand)\n",
    "my_rand = np.random.rand(5)\n",
    "print(my_rand)\n",
    "\n",
    "# Set seed before calling. Seed released after calling.\n",
    "np.random.seed(42)\n",
    "my_rand = np.random.rand(5)\n",
    "print(my_rand)\n",
    "np.random.seed(42)\n",
    "my_rand = np.random.rand(5)\n",
    "print(my_rand)"
   ]
  },
  {
   "cell_type": "markdown",
   "id": "0ee502cf-a491-440a-8193-aa1242fef851",
   "metadata": {},
   "source": [
    "## 1.2.2 Transformation and concatenation"
   ]
  },
  {
   "cell_type": "code",
   "execution_count": 120,
   "id": "064a9544-2d9f-4250-99c4-490685f69dac",
   "metadata": {},
   "outputs": [
    {
     "name": "stdout",
     "output_type": "stream",
     "text": [
      "[[0. 0. 0.]\n",
      " [0. 0. 0.]]\n",
      "[[0. 0.]\n",
      " [0. 0.]\n",
      " [0. 0.]]\n"
     ]
    }
   ],
   "source": [
    "# Transpose, row <=> col\n",
    "my_array = np.zeros((2,3))\n",
    "print(my_array)\n",
    "my_array = my_array.T # Create a copy, not mutating. So need a var to receive the copy.\n",
    "print(my_array)"
   ]
  },
  {
   "cell_type": "code",
   "execution_count": 121,
   "id": "1c475bed-2ee2-4950-b75c-26253edfff9c",
   "metadata": {},
   "outputs": [
    {
     "name": "stdout",
     "output_type": "stream",
     "text": [
      "[[0. 0. 0.]\n",
      " [0. 0. 0.]]\n",
      "[[0. 0. 0.]\n",
      " [0. 0. 0.]\n",
      " [0. 0. 0.]\n",
      " [0. 0. 0.]]\n",
      "[[0. 0. 0. 0. 0. 0.]\n",
      " [0. 0. 0. 0. 0. 0.]]\n"
     ]
    }
   ],
   "source": [
    "# Concatenate, np.r_ and np.c_ on different axis\n",
    "\n",
    "# r_ -> by row\n",
    "my_array = np.zeros((2,3))\n",
    "print(my_array)\n",
    "my_con = np.r_[my_array, my_array] # use []\n",
    "print(my_con)\n",
    "\n",
    "# c_ -> by col\n",
    "my_con = np.c_[my_array, my_array] # use []\n",
    "print(my_con)"
   ]
  },
  {
   "cell_type": "code",
   "execution_count": 122,
   "id": "eaaa684e-c0f2-433c-8bed-3f9874ab8ffc",
   "metadata": {},
   "outputs": [
    {
     "name": "stdout",
     "output_type": "stream",
     "text": [
      "[1. 1.]\n",
      "[[0. 0. 0.]\n",
      " [0. 0. 0.]]\n",
      "[[1. 0. 0. 0.]\n",
      " [1. 0. 0. 0.]]\n",
      "[[0. 0. 0. 1.]\n",
      " [0. 0. 0. 1.]]\n"
     ]
    }
   ],
   "source": [
    "# Concatenate a 1-d to a 2-d\n",
    "# The only way to do this is to think of the 1-d array as a col vector!\n",
    "# The col vector must match the col size (# of rows) in the 2-d array.\n",
    "# Only use np.c_\n",
    "my_array_1 = np.ones(2)\n",
    "print(my_array_1)\n",
    "\n",
    "my_array_2 = np.zeros((2,3))\n",
    "print(my_array_2)\n",
    "\n",
    "# Use np_c to append 1-d.\n",
    "# Position of param identifies where to append.\n",
    "print(np.c_[my_array_1, my_array_2])\n",
    "print(np.c_[my_array_2, my_array_1])"
   ]
  },
  {
   "cell_type": "code",
   "execution_count": 123,
   "id": "688e575d-478a-4bf4-b56a-2083f28155d6",
   "metadata": {},
   "outputs": [
    {
     "name": "stdout",
     "output_type": "stream",
     "text": [
      "[0 1 2 3 4 5 6 7]\n",
      "[[0 1 2 3]\n",
      " [4 5 6 7]]\n",
      "[[0 1]\n",
      " [2 3]\n",
      " [4 5]\n",
      " [6 7]]\n",
      "[[0 4]\n",
      " [1 5]\n",
      " [2 6]\n",
      " [3 7]]\n",
      "[[1.]\n",
      " [1.]\n",
      " [1.]]\n",
      "[1. 1. 1.]\n"
     ]
    }
   ],
   "source": [
    "# Reshape: 1-d to n-d or n-d to 1-d\n",
    "# Reshape from c and f direction? Default = c\n",
    "my_array = np.arange(8)\n",
    "print(my_array)\n",
    "\n",
    "print(my_array.reshape(2,4))\n",
    "\n",
    "print(my_array.reshape(4,2))\n",
    "\n",
    "print(my_array.reshape(4,2, order='F'))\n",
    "\n",
    "# It is common to turn n*1 (col) to rows\n",
    "my_array = np.ones((3,1))\n",
    "print(my_array)\n",
    "print(my_array.reshape(-1)) # Just remember it is a easy way to flatten..."
   ]
  },
  {
   "cell_type": "markdown",
   "id": "ac938965-4f01-48b5-8bdf-0baa1a0078c8",
   "metadata": {},
   "source": [
    "## 1.2.3 Slicing and Indexing"
   ]
  },
  {
   "cell_type": "code",
   "execution_count": 124,
   "id": "f4552cc4-1be9-4709-b750-58ab4ef421ef",
   "metadata": {},
   "outputs": [
    {
     "name": "stdout",
     "output_type": "stream",
     "text": [
      "[[0 1 2]\n",
      " [3 4 5]\n",
      " [6 7 8]]\n",
      "[[0 1 2]\n",
      " [3 4 5]]\n",
      "[[2]\n",
      " [5]\n",
      " [8]]\n"
     ]
    }
   ],
   "source": [
    "# Support [start:end:step]\n",
    "my_array = np.arange(9).reshape(3,3)\n",
    "print(my_array)\n",
    "\n",
    "# Treat the 2-d array as an array of rows.\n",
    "print(my_array[:2])\n",
    "# Can specify col to be sliced by passing a list:\n",
    "print(my_array[::,[2]]) # :: meaning to include all rows, [2] means to slice the col indexed 2."
   ]
  },
  {
   "cell_type": "code",
   "execution_count": 125,
   "id": "6bf4b5ac-377e-42b2-b998-32b29077d032",
   "metadata": {},
   "outputs": [
    {
     "name": "stdout",
     "output_type": "stream",
     "text": [
      "[[0 1 2]\n",
      " [3 4 5]\n",
      " [6 7 8]]\n",
      "[[0 1 2]]\n",
      "[[0]]\n",
      "[[0 1 2]\n",
      " [3 4 5]]\n",
      "[[0 1]\n",
      " [3 4]]\n"
     ]
    }
   ],
   "source": [
    "# Boolean indexing with np.ix_.\n",
    "# ndarray[np.ix_([],[])]\n",
    "# The first list is a mask for rows, first element -> first row and so forth.\n",
    "# The second list is a mask for cols, first element -> first col and so forth.\n",
    "print(my_array)\n",
    "print(my_array[np.ix_([True])])\n",
    "print(my_array[np.ix_([True],[True])])\n",
    "print(my_array[np.ix_([True,True])])\n",
    "print(my_array[np.ix_([True,True],[True,True])])"
   ]
  },
  {
   "cell_type": "code",
   "execution_count": 126,
   "id": "96889249-97c2-4715-a30c-baadf5673273",
   "metadata": {},
   "outputs": [
    {
     "name": "stdout",
     "output_type": "stream",
     "text": [
      "[[0 1 2]\n",
      " [3 4 5]\n",
      " [6 7 8]]\n",
      "[0 1 2 3 4 5 6 7 8]\n",
      "[0 2 4 6 8]\n"
     ]
    }
   ],
   "source": [
    "# for 1-d array, simply put condition in [], no need to use np.ix_\n",
    "print(my_array)\n",
    "new = my_array.reshape(-1)\n",
    "print(new)\n",
    "print(new[new % 2 == 0])"
   ]
  },
  {
   "cell_type": "markdown",
   "id": "7dacb2c0-817c-4301-a9fc-8106d261a82a",
   "metadata": {},
   "source": [
    "## 1.2.4 Common NumPy Functions"
   ]
  },
  {
   "cell_type": "code",
   "execution_count": 137,
   "id": "e22d61cb-6ef8-4e80-87fd-768cafa243f7",
   "metadata": {},
   "outputs": [
    {
     "name": "stdout",
     "output_type": "stream",
     "text": [
      "[1 2 3 4 5]\n",
      "[10  0 10  0 10]\n"
     ]
    }
   ],
   "source": [
    "# np.where(condition, val if true, val if false)\n",
    "# where is called from np not an ndarray instance.\n",
    "my_array = np.array([1,2,3,4,5])\n",
    "print(my_array)\n",
    "\n",
    "print(np.where(my_array%2==0, 0, 10))"
   ]
  },
  {
   "cell_type": "code",
   "execution_count": 144,
   "id": "98359f74-9dac-4541-aa42-bfbd87ce58b3",
   "metadata": {},
   "outputs": [
    {
     "name": "stdout",
     "output_type": "stream",
     "text": [
      "(array([1, 2, 3, 4, 5], dtype=int64),)\n",
      "(array([1, 2, 3, 4, 5], dtype=int64),)\n",
      "5\n",
      "5\n",
      "0\n",
      "0\n"
     ]
    }
   ],
   "source": [
    "# nonzero\n",
    "# Return the index of non-zeros.\n",
    "my_array = np.array([0,2,4,6,8,10])\n",
    "print(my_array.nonzero())\n",
    "print(np.nonzero(my_array))\n",
    "\n",
    "# argmax\n",
    "# Return the index of max\n",
    "print(my_array.argmax())\n",
    "print(np.argmax(my_array))\n",
    "\n",
    "# argmin\n",
    "print(my_array.argmin())\n",
    "print(np.argmin(my_array))"
   ]
  },
  {
   "cell_type": "code",
   "execution_count": 150,
   "id": "629b8820-99a1-44ef-a55c-6f47fc01ad98",
   "metadata": {},
   "outputs": [
    {
     "name": "stdout",
     "output_type": "stream",
     "text": [
      "False\n",
      "[0. 0. 0. 0. 1.]\n",
      "True\n",
      "False\n",
      "True\n"
     ]
    }
   ],
   "source": [
    "# any\n",
    "# True if has at least 1 non-zero\n",
    "my_array = np.zeros(5)\n",
    "print(my_array.any())\n",
    "my_array[4] = 1\n",
    "print(my_array)\n",
    "print(my_array.any())\n",
    "\n",
    "# all\n",
    "# True if all non-zero\n",
    "print(my_array.all())\n",
    "my_array = np.ones(5)\n",
    "print(my_array.all())"
   ]
  },
  {
   "cell_type": "code",
   "execution_count": 158,
   "id": "183d6257-2a36-472d-9220-c99cf7bfa06f",
   "metadata": {},
   "outputs": [
    {
     "name": "stdout",
     "output_type": "stream",
     "text": [
      "[  1   2   6  24 120]\n",
      "[ 1  3  6 10 15]\n",
      "[1 1 1 2]\n"
     ]
    }
   ],
   "source": [
    "# cumprod\n",
    "# Accumulation of products. Return same size of array.\n",
    "my_array = np.array([1,2,3,4,5])\n",
    "print(my_array.cumprod())\n",
    "\n",
    "# cumsum\n",
    "# Accumulation of sum. Return same size of array.\n",
    "print(my_array.cumsum())\n",
    "\n",
    "# np.diff()\n",
    "# Calculate the differece between adjacent elements.\n",
    "my_array[4] = 6\n",
    "print(np.diff(my_array))"
   ]
  },
  {
   "cell_type": "code",
   "execution_count": 167,
   "id": "17bc843e-009b-4598-9499-8e91c36ab47f",
   "metadata": {},
   "outputs": [
    {
     "name": "stdout",
     "output_type": "stream",
     "text": [
      "Max: 5\n",
      "0.5 quantile: 3.0\n",
      "[ 1.  2.  3.  4. nan]\n",
      "Max: nan\n",
      "Max: 4.0\n"
     ]
    }
   ],
   "source": [
    "# Descriptive statistics\n",
    "# max, min, mean, median, std, var, sum, quantile\n",
    "# quantile is global method, called from np.quantile()\n",
    "my_array = np.array([1,2,3,4,5])\n",
    "print(f\"Max: {my_array.max()}\")\n",
    "print(f\"0.5 quantile: {np.quantile(my_array, 0.5)}\")\n",
    "\n",
    "# However, for arrays with missing values, these functions wilj just return nan.\n",
    "# As a result, have to use np.nan functions to skip nan.\n",
    "# my_array[4] = np.nan -> This is not working. Cannot convert int to NaN\n",
    "my_array = np.array([1,2,3,4,np.nan])\n",
    "print(my_array)\n",
    "print(f\"Max: {my_array.max()}\")\n",
    "print(f\"Max: {np.nanmax(my_array)}\")"
   ]
  },
  {
   "cell_type": "code",
   "execution_count": 189,
   "id": "980bc1ae-dbdb-430b-a682-00bc0d7b0963",
   "metadata": {},
   "outputs": [
    {
     "name": "stdout",
     "output_type": "stream",
     "text": [
      "[[2.5 2.5]\n",
      " [2.5 2.5]]\n",
      "[[1. 1.]\n",
      " [1. 1.]]\n"
     ]
    }
   ],
   "source": [
    "# Covariance and Coefficient Correlation\n",
    "# Must understand the concept and how they calculated!\n",
    "# Corr (pearson) = Cov/(sig X * sig Y)\n",
    "# Corr = 1 -> perfect positive linear; -1 -> perfect negative linear; 0 -> no linear relationship\n",
    "# Use np.cov and np.corrcoef\n",
    "my_array_1 = np.array([1,2,3,4,5])\n",
    "my_array_2 = np.array([6,7,8,9,10])\n",
    "print(np.cov(my_array_1, my_array_2))\n",
    "print(np.corrcoef(my_array_1, my_array_2))"
   ]
  },
  {
   "cell_type": "code",
   "execution_count": 191,
   "id": "2679a15e-8226-412a-8e64-4d7ea2dcceed",
   "metadata": {},
   "outputs": [
    {
     "name": "stdout",
     "output_type": "stream",
     "text": [
      "[[1.         0.98815829]\n",
      " [0.98815829 1.        ]]\n",
      "0.9881582860812733\n"
     ]
    },
    {
     "data": {
      "image/png": "[encoded data removed]",
      "text/plain": [
       "<Figure size 640x480 with 1 Axes>"
      ]
     },
     "metadata": {},
     "output_type": "display_data"
    }
   ],
   "source": [
    "# ChatGPT Example on Corr!!\n",
    "\n",
    "# Generate two arrays with a known correlation\n",
    "np.random.seed(42)\n",
    "x = np.random.rand(100)\n",
    "y = 2 * x + 1 + 0.1 * np.random.randn(100)  # Linear relationship with some noise\n",
    "\n",
    "# Calculate the correlation coefficient\n",
    "correlation_coefficient = np.corrcoef(x, y)[0, 1] # This is very important! A way to convert corr matrix to a val.\n",
    "print(np.corrcoef(x, y))\n",
    "print(correlation_coefficient)\n",
    "\n",
    "# Plot the scatter plot\n",
    "plt.scatter(x, y, label=f'Correlation = {correlation_coefficient:.2f}')\n",
    "plt.title('Scatter Plot with Correlation Coefficient')\n",
    "plt.xlabel('X')\n",
    "plt.ylabel('Y')\n",
    "plt.legend()\n",
    "plt.show()"
   ]
  },
  {
   "cell_type": "code",
   "execution_count": 199,
   "id": "702b0432-c3e1-4d8c-a8cf-c5b7e61aaab8",
   "metadata": {},
   "outputs": [
    {
     "name": "stdout",
     "output_type": "stream",
     "text": [
      "[[1 2 3]\n",
      " [4 5 6]\n",
      " [7 8 9]]\n",
      "default sum: 45\n",
      "by col sum on 0 axis: [12 15 18]\n",
      "by row sum on 1 axis: [ 6 15 24]\n"
     ]
    }
   ],
   "source": [
    "# axis param for stats functions\n",
    "# axis = 0 -> by col, axis = 1 -> by row\n",
    "my_array = np.arange(1,10).reshape(3,-1)\n",
    "print(my_array)\n",
    "print(f'default sum: {my_array.sum()}') # sum all\n",
    "# by col\n",
    "print(f'by col sum on 0 axis: {my_array.sum(0)}')\n",
    "# by row\n",
    "print(f'by row sum on 1 axis: {my_array.sum(1)}')"
   ]
  },
  {
   "cell_type": "markdown",
   "id": "1857b350-5863-41e0-bdfd-12c823b647ec",
   "metadata": {},
   "source": [
    "## 1.2.5 Broadcasting"
   ]
  },
  {
   "cell_type": "markdown",
   "id": "f5fedb4f-5184-4252-93e9-f1135213d406",
   "metadata": {},
   "source": [
    "- Allow operations to be performed on arrays of different shapes and sizes.\n",
    "- Enable universal functions to work with arrays of different shapes and sizes.\n",
    "\n",
    "Rules:\n",
    "\n",
    "- Dimensions of the arrays should be compatible\n",
    "- If dimensions are different, pad the smaller shape with ones on its left.\n",
    "- Size along a dimension must either be equal or one of them must be 1."
   ]
  },
  {
   "cell_type": "code",
   "execution_count": 203,
   "id": "4165060a-baa3-460a-b44e-707de3499705",
   "metadata": {},
   "outputs": [
    {
     "name": "stdout",
     "output_type": "stream",
     "text": [
      "[11 12 13 14 15 16]\n",
      "[[11 12 13]\n",
      " [14 15 16]]\n",
      "[[10 20 30]\n",
      " [40 50 60]]\n"
     ]
    }
   ],
   "source": [
    "# Broadcasting with scalar\n",
    "# Scalar is broadcasted to the shape of the array.\n",
    "arr_1 = np.array([1,2,3,4,5,6])\n",
    "print(arr_1 + 10)\n",
    "arr_2 = arr_1.reshape(2,3)\n",
    "print(arr_2 + 10)\n",
    "print(arr_2 * 10)"
   ]
  },
  {
   "cell_type": "code",
   "execution_count": 225,
   "id": "ca2ee355-6e35-4079-b04f-91e0c88189ae",
   "metadata": {},
   "outputs": [
    {
     "name": "stdout",
     "output_type": "stream",
     "text": [
      "[11. 12. 13. 14. 15. 16.]\n",
      "[[1 2 3]\n",
      " [4 5 6]]\n",
      "[[  10  200 3000]\n",
      " [  40  500 6000]]\n",
      "[[ 10  20  30]\n",
      " [400 500 600]]\n"
     ]
    }
   ],
   "source": [
    "# Broadcasting with 1-d and 2-d arrays\n",
    "# Dimension need to be match.\n",
    "arr_1 = np.array([1,2,3,4,5,6])\n",
    "arr_2 = np.ones(6) * 10\n",
    "print(arr_1 + arr_2)\n",
    "\n",
    "# To operate 1-d array and 2-d array, the 1-d array must match the size of ROW or COL.\n",
    "arr_1 = arr_1.reshape(2,3)\n",
    "print(arr_1)\n",
    "# The 1-d array should match the ROW size of the 2-d array.\n",
    "# The operation will be appied by ROW.\n",
    "print(arr_1 * np.array([10,100,1000]))\n",
    "# OR reshape the 1-d array to make it a COL. For example, a 2 x 1 array.\n",
    "# The operation will be applied by COL.\n",
    "print(arr_1 * np.array([[10],[100]]))"
   ]
  },
  {
   "cell_type": "markdown",
   "id": "cc5539bf-daaf-4b53-8702-dcce4ca0e55c",
   "metadata": {},
   "source": [
    "## 1.2.6 Vector and Matrix Calculation"
   ]
  },
  {
   "cell_type": "code",
   "execution_count": 230,
   "id": "bfef6c52-916c-4bdf-b9ae-157c46e96a43",
   "metadata": {},
   "outputs": [
    {
     "name": "stdout",
     "output_type": "stream",
     "text": [
      "140\n"
     ]
    }
   ],
   "source": [
    "# Vector dot product.\n",
    "# Sum(a1b1 + a2b2 + ... + anbn)\n",
    "# Must be same size.\n",
    "arr_1 = np.array([1,2,3])\n",
    "arr_2 = np.array([10,20,30])\n",
    "print(arr_1.dot(arr_2))"
   ]
  },
  {
   "cell_type": "code",
   "execution_count": 231,
   "id": "f577e9b8-8eec-4398-ba34-e9345febb043",
   "metadata": {},
   "outputs": [],
   "source": [
    "# Vector norm and Matrix norm\n",
    "# np.linalg.norm\n",
    "# Check back later"
   ]
  },
  {
   "cell_type": "code",
   "execution_count": 233,
   "id": "895a37c1-c718-4477-8934-d1f86feb5112",
   "metadata": {},
   "outputs": [],
   "source": [
    "# Matrix multiplacation.\n",
    "# Check back later"
   ]
  },
  {
   "cell_type": "markdown",
   "id": "e3f34a1b-e28c-4116-9f06-60adfec2ae13",
   "metadata": {},
   "source": [
    "# 1.3 Exercises"
   ]
  },
  {
   "cell_type": "code",
   "execution_count": 235,
   "id": "30f1b55d-0a34-4639-8b43-1a88cc0de10a",
   "metadata": {},
   "outputs": [],
   "source": [
    "# Check back later"
   ]
  },
  {
   "cell_type": "code",
   "execution_count": null,
   "id": "31eb6e74-1f0c-4025-aaf5-aaca4b621bee",
   "metadata": {},
   "outputs": [],
   "source": []
  },
  {
   "cell_type": "code",
   "execution_count": null,
   "id": "6eb50d46-52d2-495f-b7f2-14dc93a54f0a",
   "metadata": {},
   "outputs": [],
   "source": []
  },
  {
   "cell_type": "code",
   "execution_count": null,
   "id": "045eaa12-3e1b-46ab-b31e-65673d224825",
   "metadata": {},
   "outputs": [],
   "source": []
  }
 ],
 "metadata": {
  "kernelspec": {
   "display_name": "Python 3 (ipykernel)",
   "language": "python",
   "name": "python3"
  },
  "language_info": {
   "codemirror_mode": {
    "name": "ipython",
    "version": 3
   },
   "file_extension": ".py",
   "mimetype": "text/x-python",
   "name": "python",
   "nbconvert_exporter": "python",
   "pygments_lexer": "ipython3",
   "version": "3.11.4"
  }
 },
 "nbformat": 4,
 "nbformat_minor": 5
}
